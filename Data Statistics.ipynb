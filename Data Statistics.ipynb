{
 "cells": [
  {
   "cell_type": "code",
   "execution_count": 2,
   "metadata": {},
   "outputs": [],
   "source": [
    "import numpy as np"
   ]
  },
  {
   "cell_type": "code",
   "execution_count": 26,
   "metadata": {},
   "outputs": [
    {
     "data": {
      "text/plain": [
       "0.2706705664732254"
      ]
     },
     "execution_count": 26,
     "metadata": {},
     "output_type": "execute_result"
    }
   ],
   "source": [
    "2*np.exp(-2)"
   ]
  },
  {
   "cell_type": "code",
   "execution_count": 33,
   "metadata": {},
   "outputs": [
    {
     "data": {
      "text/plain": [
       "0.2743484224965706"
      ]
     },
     "execution_count": 33,
     "metadata": {},
     "output_type": "execute_result"
    }
   ],
   "source": [
    "2*2.7**(-2)"
   ]
  },
  {
   "cell_type": "code",
   "execution_count": 32,
   "metadata": {},
   "outputs": [
    {
     "data": {
      "text/plain": [
       "8"
      ]
     },
     "execution_count": 32,
     "metadata": {},
     "output_type": "execute_result"
    }
   ],
   "source": [
    "2**3"
   ]
  },
  {
   "cell_type": "markdown",
   "metadata": {},
   "source": [
    "---\n",
    "## Discrete distribution\n",
    "\n",
    "- Bernoulli\n",
    "- Binomial\n",
    "- Poission\n",
    "- Hypergeometric"
   ]
  },
  {
   "cell_type": "markdown",
   "metadata": {},
   "source": [
    "확률변수(random variable)란, 무작위 실험시 어떤 확률로 발생하는 결과값을 수치적 값으로 표현하는 변수  \n",
    "\n",
    "확률분포(Probability Distribution)란,  모든 확률변수 값에 대응되는 확률들의 분포\n",
    "\n",
    "확률함수(Probability Function)란,  확률변수들에 의해 정의된 실수를 확률값에 대응시키는 함수\n",
    "\n",
    "<span style='color:blue'>확률 질량 함수(確率質量函數, probability mass function, PMF)는 이산 확률 변수에서 특정 값에 대한 확률을 나타내는 함수</span>이다. 이 함수는 연속 확률 변수에서의 확률 밀도 함수와 대응된다.\n",
    "\n",
    "예를 들어, 주사위를 한 번 굴릴 때의 값을 나타내는 확률 변수가 $X$일 때, 이 확률 변수에 대응되는 확률 질량 함수는  \n",
    "\n",
    "$f_{X}(x)=1/6 $이다.\n",
    "\n",
    "확률 변수 ${\\displaystyle X:S\\to \\mathbb {R} }X:S\\to {\\mathbb  {R}}$가 표본 공간 (sample space) S에 의해 정의되는 이산 확률 변수일 때, 확률 질량 함수 ${\\displaystyle f_{X}(x):\\mathbb {R} \\to [0,1]}f_{X}(x):{\\mathbb  {R}}\\to [0,1]$는   \n",
    "$f_{X}(x)=\\Pr(X=x)=\\Pr(\\{s\\in S:X(s)=x\\})$\n",
    "이다.\n",
    "\n",
    "___"
   ]
  },
  {
   "cell_type": "markdown",
   "metadata": {},
   "source": [
    "### 1. Binomial"
   ]
  },
  {
   "cell_type": "markdown",
   "metadata": {},
   "source": [
    "N번 시행시 k번 성공할 확률\n",
    "\n",
    "일반적으로, 확률변수 K가 매개변수 n과 p를 가지는 이항분포를 따른다면, K ~ B(n,p)라고 쓴다. n번 시행 중에 k번 성공할 확률은 확률 질량 함수로 주어진다:  \n",
    "\n",
    "\n",
    "${\\displaystyle \\Pr(K=k)=f(k;n,p)={n \\choose k}p^{k}(1-p)^{n-k}}$\n",
    "\n",
    "이 때, k = 0, 1, 2, ..., n 이고,\n",
    "\n",
    "${\\displaystyle {n \\choose k}={\\frac {n!}{k!(n-k)!}}}$"
   ]
  },
  {
   "cell_type": "markdown",
   "metadata": {},
   "source": [
    "___\n",
    "\n",
    "<span style=\"color:blue\"> numpy.random.binomial(n, p, size=None) </span> \n",
    "\n",
    "n : int or array_like of ints\n",
    "Parameter of the distribution, >= 0. Floats are also accepted, but they will be truncated to integers.\n",
    "\n",
    "p : float or array_like of floats\n",
    "Parameter of the distribution, >= 0 and <=1.\n",
    "\n",
    "size : int or tuple of ints, optional Output shape. If the given shape is, e.g., (m, n, k), then m * n * k samples are drawn. If size is None (default), a single value is returned if n and p are both scalars. Otherwise, np.broadcast(n, p).size samples are drawn.\n",
    "\n",
    "out : ndarray or scalar \n",
    "Drawn samples from the parameterized binomial distribution, where each sample is equal to the number of successes over the n trials.\n",
    "___\n",
    "\n",
    "Mean : $\\mu = np$  \n",
    "Variance : $\\sigma^2 = npq$  \n",
    "Standarddeviation : $\\sigma = \\sqrt{npq}$\n",
    "\n",
    "___"
   ]
  },
  {
   "cell_type": "code",
   "execution_count": 8,
   "metadata": {},
   "outputs": [
    {
     "data": {
      "text/plain": [
       "0.3851"
      ]
     },
     "execution_count": 8,
     "metadata": {},
     "output_type": "execute_result"
    }
   ],
   "source": [
    "n, p = 10, .5  # number of trials, probability of each trial\n",
    "s = np.random.binomial(n, p, 1000)\n",
    "# result of flipping a coin 10 times, tested 1000 times.\n",
    "sum(np.random.binomial(9, 0.1, 20000) == 0)/20000.\n",
    "# answer = 0.38885, or 38%."
   ]
  },
  {
   "cell_type": "code",
   "execution_count": 95,
   "metadata": {},
   "outputs": [
    {
     "data": {
      "image/png": "[encoded data removed]",
      "text/plain": [
       "<Figure size 432x288 with 1 Axes>"
      ]
     },
     "metadata": {
      "needs_background": "light"
     },
     "output_type": "display_data"
    },
    {
     "name": "stdout",
     "output_type": "stream",
     "text": [
      "True\n"
     ]
    }
   ],
   "source": [
    "from scipy.stats import binom\n",
    "import matplotlib.pyplot as plt\n",
    "fig, ax = plt.subplots(1, 1)\n",
    "\n",
    "#Calculate a few first moments:\n",
    "\n",
    "n, p = 5, 0.4\n",
    "mean, var, skew, kurt = binom.stats(n, p, moments='mvsk')\n",
    "#Display the probability mass function (pmf):\n",
    "\n",
    "x = np.arange(binom.ppf(0.01, n, p),binom.ppf(0.99, n, p))\n",
    "ax.plot(x, binom.pmf(x, n, p), 'bo', ms=8, label='binom pmf')\n",
    "ax.vlines(x, 0, binom.pmf(x, n, p), colors='b', lw=5, alpha=0.5)\n",
    "# Alternatively, the distribution object can be called (as a function) to fix the shape and location. This returns a “frozen” RV object holding the given parameters fixed.\n",
    "\n",
    "# Freeze the distribution and display the frozen pmf:\n",
    "\n",
    "rv = binom(n, p)\n",
    "ax.vlines(x, 0, rv.pmf(x), colors='k', linestyles='-', lw=1, label='frozen pmf')\n",
    "ax.legend(loc='best', frameon=False)\n",
    "plt.show()\n",
    "\n",
    "#Check accuracy of cdf and ppf:\n",
    "\n",
    "prob = binom.cdf(x, n, p)\n",
    "print(np.allclose(x, binom.ppf(prob, n, p)))\n",
    "\n",
    "#Generate random numbers:\n",
    "\n",
    "r = binom.rvs(n, p, size=1000)"
   ]
  },
  {
   "cell_type": "markdown",
   "metadata": {},
   "source": [
    "***\n",
    "### 2. Poisson Ditribution\n",
    "\n",
    "단위 시간 안에 어떤 사건이 몇 번 발생할 것인지를 표현하는 이산 확률 분포\n",
    "\n",
    "정해진 시간 안에 어떤 사건이 일어날 횟수에 대한 기댓값을 $\\lambda$ 라고 했을 때, 그 사건이 $n$회 일어날 확률은 다음과 같다.\n",
    "\n",
    "${\\displaystyle f(n;\\lambda )={\\frac {\\lambda ^{n}e^{-\\lambda }}{n!}},\\,\\!}$   여기서 $e$는 자연상수이다.\n",
    "\n",
    "___\n",
    "<span style=\"color:blue\">numpy.random.poisson(lam=1.0, size=None)</span>  \n",
    "Draw samples from a Poisson distribution.\n",
    "\n",
    "The Poisson distribution is the limit of the binomial distribution for large N.\n",
    "\n",
    "Parameters:\t\n",
    "lam : float or array_like of floats\n",
    "Expectation of interval, should be >= 0. A sequence of expectation intervals must be broadcastable over the requested size.\n",
    "\n",
    "size : int or tuple of ints, optional\n",
    "Output shape. If the given shape is, e.g., (m, n, k), then m * n * k samples are drawn. If size is None (default), a single value is returned if lam is a scalar. Otherwise, np.array(lam).size samples are drawn.\n",
    "\n",
    "Returns:\t\n",
    "out : ndarray or scalar\n",
    "Drawn samples from the parameterized Poisson distribution.\n",
    "___\n",
    "Mean : $\\mu$  \n",
    "Standarad deviation : $\\sigma = \\sqrt{\\mu}$\n",
    "\n",
    "___"
   ]
  },
  {
   "cell_type": "markdown",
   "metadata": {},
   "source": [
    "A Poisson discrete random variable.\n",
    "\n",
    "Discrete random variables are defined from a standard form and may require some shape parameters to complete its specification. Any optional keyword parameters can be passed to the methods of the RV object as given below:\n",
    "\n",
    "Parameters:\t x : array_like quantiles\n",
    "\n",
    "q : array_like lower or upper tail probability\n",
    "\n",
    "mu : array_like  shape parameters\n",
    "\n",
    "loc : array_like, optional  location parameter (default=0)\n",
    "\n",
    "size : int or tuple of ints, optional  shape of random variates (default computed from input arguments )\n",
    "\n",
    "moments : str, optional \n",
    "\n",
    "composed of letters [‘mvsk’] specifying which moments to compute where ‘m’ = mean, ‘v’ = variance, ‘s’ = (Fisher’s) skew and ‘k’ = (Fisher’s) kurtosis. Default is ‘mv’.\n",
    "\n",
    "Alternatively, the object may be called (as a function) to fix the shape and\n",
    "\n",
    "location parameters returning a “frozen” discrete RV object: rv = poisson(mu, loc=0)\n",
    "\n",
    "Frozen RV object with the same methods but holding the given shape and location fixed.\n",
    "___"
   ]
  },
  {
   "cell_type": "markdown",
   "metadata": {},
   "source": [
    "- rvs(mu, loc=0, size=1)\tRandom variates.  \n",
    "- pmf(x, mu, loc=0)\tProbability mass function.  \n",
    "- logpmf(x, mu, loc=0)\tLog of the probability mass function.  \n",
    "- cdf(x, mu, loc=0)\tCumulative density function.  \n",
    "- logcdf(x, mu, loc=0)\tLog of the cumulative density function.  \n",
    "- sf(x, mu, loc=0)\tSurvival function (1-cdf — sometimes more accurate).  \n",
    "- logsf(x, mu, loc=0)\tLog of the survival function.  \n",
    "- ppf(q, mu, loc=0)\tPercent point function (inverse of cdf — percentiles).  \n",
    "- isf(q, mu, loc=0)\tInverse survival function (inverse of sf).  \n",
    "- stats(mu, loc=0, moments='mv')\tMean(‘m’), variance(‘v’), skew(‘s’), and/or kurtosis(‘k’).  \n",
    "- entropy(mu, loc=0)\t(Differential) entropy of the RV.  \n",
    "- expect(func, mu, loc=0, lb=None, ub=None, conditional=False)\tExpected value of a function (of one argument) with respect to the distribution.  \n",
    "- median(mu, loc=0)\tMedian of the distribution.  \n",
    "- mean(mu, loc=0)\tMean of the distribution.  \n",
    "- var(mu, loc=0)\tVariance of the distribution.  \n",
    "- std(mu, loc=0)\tStandard deviation of the distribution.  \n",
    "- interval(alpha, mu, loc=0)\tEndpoints of the range that contains alpha percent of the distribution  \n",
    "\n",
    "___"
   ]
  },
  {
   "cell_type": "code",
   "execution_count": 57,
   "metadata": {},
   "outputs": [
    {
     "data": {
      "text/plain": [
       "0.2706705664732254"
      ]
     },
     "execution_count": 57,
     "metadata": {},
     "output_type": "execute_result"
    }
   ],
   "source": [
    "# 2주에 평균적으로 1회 발생할때, 1회 발생활 확률\n",
    "poisson.pmf(1,mu=2)"
   ]
  },
  {
   "cell_type": "code",
   "execution_count": 51,
   "metadata": {},
   "outputs": [
    {
     "data": {
      "image/png": "[encoded data removed]",
      "text/plain": [
       "<Figure size 432x288 with 1 Axes>"
      ]
     },
     "metadata": {
      "needs_background": "light"
     },
     "output_type": "display_data"
    }
   ],
   "source": [
    "from scipy.stats import poisson\n",
    "import matplotlib.pyplot as plt\n",
    "fig, ax = plt.subplots(1, 1)\n",
    "\n",
    "#Calculate a few first moments:\n",
    "\n",
    "mu = 2\n",
    "mean, var, skew, kurt = poisson.stats(mu, moments='mvsk')\n",
    "\n",
    "#Display the probability mass function (pmf):\n",
    "\n",
    "x = np.arange(poisson.ppf(0.01, mu), poisson.ppf(0.99, mu))\n",
    "\n",
    "ax.plot(x, poisson.pmf(x, mu), 'bo', ms=8, label='poisson pmf')\n",
    "ax.vlines(x, 0, poisson.pmf(x, mu), colors='b', lw=5, alpha=0.5)\n",
    "\n",
    "#Alternatively, freeze the distribution and display the frozen pmf:\n",
    "rv = poisson(mu)\n",
    "ax.vlines(x, 0, rv.pmf(x), colors='k', linestyles='-', lw=1, label='frozen pmf')\n",
    "ax.legend(loc='best', frameon=False)\n",
    "plt.show()"
   ]
  },
  {
   "cell_type": "code",
   "execution_count": 48,
   "metadata": {},
   "outputs": [
    {
     "data": {
      "text/plain": [
       "True"
      ]
     },
     "execution_count": 48,
     "metadata": {},
     "output_type": "execute_result"
    }
   ],
   "source": [
    "# Check accuracy of cdf and ppf:\n",
    "\n",
    "prob = poisson.cdf(x, mu)\n",
    "np.allclose(x, poisson.ppf(prob, mu))"
   ]
  },
  {
   "cell_type": "code",
   "execution_count": 50,
   "metadata": {},
   "outputs": [],
   "source": [
    "# Generate random numbers:\n",
    "# r = poisson.rvs(mu, size=1000)"
   ]
  },
  {
   "cell_type": "code",
   "execution_count": 49,
   "metadata": {},
   "outputs": [
    {
     "data": {
      "image/png": "[encoded data removed]",
      "text/plain": [
       "<Figure size 432x288 with 1 Axes>"
      ]
     },
     "metadata": {
      "needs_background": "light"
     },
     "output_type": "display_data"
    }
   ],
   "source": [
    "from scipy.stats import poisson\n",
    "import numpy as np \n",
    "import matplotlib.pyplot as plt\n",
    "\n",
    "x= np.arange(100,200,0.5)\n",
    "plt.plot(x, poisson.pmf(x,150))\n",
    "plt.show()\n"
   ]
  },
  {
   "cell_type": "markdown",
   "metadata": {},
   "source": [
    "### 3.Hypergeometric distribution\n",
    "\n",
    "크기가 N(k의 성공과, n-k의 실패)인 모집단에서 n개의 표본을 택한다. 이때 성공의 개수 x를 초기하 확률변수라고 함\n",
    "\n",
    "The hypergeometric distribution is a discrete probability distribution that describes   \n",
    "the probability of ${\\displaystyle k}$ successes (random draws for which the object drawn has a specified feature) in ${\\displaystyle n}$ draws, without replacement,   \n",
    "from a finite population of size ${\\displaystyle N}$ that contains exactly ${\\displaystyle K}$ objects   \n",
    "with that feature, wherein each draw is either a success or a failure.  \n",
    "In contrast, the binomial distribution describes the probability of ${\\displaystyle k}$ successes in ${\\displaystyle n}$ draws with replacement.  \n",
    "\n",
    "___\n",
    "\n",
    "A random variable ${\\displaystyle X}$ follows the hypergeometric distribution if its probability mass function (pmf) is given by  \n",
    "\n",
    "${\\displaystyle p_{X}(k)=\\Pr(X=k)={\\frac {{\\binom {K}{k}}{\\binom {N-K}{n-k}}}{\\binom {N}{n}}},}$\n",
    "\n",
    "where\n",
    "\n",
    "${\\displaystyle N}$ is the population size,  \n",
    "${\\displaystyle K}$ is the number of success states in the population,  \n",
    "${\\displaystyle n}$ is the number of draws (i.e. quantity drawn in each trial),  \n",
    "${\\displaystyle k}$ is the number of observed successes,  \n",
    "${\\textstyle \\textstyle {a \\choose b}}$ is a binomial coefficient.  \n",
    "\n",
    "The pmf is positive when ${\\displaystyle \\max(0,n+K-N)\\leq k\\leq \\min(K,n)}\\max(0,n+K-N)\\leq k\\leq \\min(K,n)$.\n",
    "\n",
    "A random variable distributed hypergeometrically with parameters ${\\displaystyle N}, {\\displaystyle K}$ and ${\\displaystyle n}$ is written ${\\textstyle X\\sim \\operatorname {Hypergeometric} (N,K,n)}$ and has probability mass function ${\\textstyle p_{X}(k)}$ above.\n",
    "\n",
    "___\n",
    "\n",
    "Mean : $\\mu$ = $n ({M}\\over{n})$"
   ]
  },
  {
   "cell_type": "markdown",
   "metadata": {},
   "source": [
    "scipy.stats.hypergeom\n",
    "scipy.stats.hypergeom = <scipy.stats._discrete_distns.hypergeom_gen object at 0x2b45d2fe25d0>  \n",
    "\n",
    "A hypergeometric discrete random variable.\n",
    "\n",
    "The hypergeometric distribution models drawing objects from a bin.  \n",
    "\n",
    "M(모집단 원소수) is the total number of objects, n(성공개수) is total number of Type I objects.  \n",
    "The random variate represents the number of Type I objects in N(뽑는 개수) drawn without replacement from the total population.  \n",
    "\n",
    "Discrete random variables are defined from a standard form and may require some shape parameters to complete its specification. \n",
    "Any optional keyword parameters can be passed to the methods of the RV object as given below:\n",
    "\n",
    "Parameters:\t\n",
    "x : array_like  quantiles\n",
    "\n",
    "q : array_like  lower or upper tail probability\n",
    "\n",
    "M, n, N : array_like  shape parameters\n",
    "\n",
    "loc : array_like, optional  location parameter (default=0)\n",
    "\n",
    "size : int or tuple of ints, optional shape of random variates (default computed from input arguments )\n",
    "\n",
    "moments : str, optional  composed of letters [‘mvsk’] specifying which moments to compute where ‘m’ = mean, ‘v’ = variance, ‘s’ = (Fisher’s) skew and ‘k’ = (Fisher’s) kurtosis. (default=’mv’)\n",
    "\n",
    "Alternatively, the object may be called (as a function) to fix the shape and location parameters returning a “frozen” discrete RV object:\n",
    "\n",
    "rv = hypergeom(M, n, N, loc=0)   Frozen RV object with the same methods but holding the given shape and location fixed.\n",
    "\n",
    "- mean(M, n, N, loc=0)\tMean of the distribution.\n",
    "- var(M, n, N, loc=0)\tVariance of the distribution.\n",
    "- std(M, n, N, loc=0)\tStandard deviation of the distribution.\n",
    "\n",
    "___\n",
    "\n",
    "pmf(k, M, n, N) = choose(n, k) * choose(M - n, N - k) / choose(M, N),  for max(0, N - (M-n)) <= k <= min(n, N)\n",
    "\n",
    "___\n",
    "                               "
   ]
  },
  {
   "cell_type": "code",
   "execution_count": 60,
   "metadata": {},
   "outputs": [
    {
     "data": {
      "image/png": "[encoded data removed]",
      "text/plain": [
       "<Figure size 432x288 with 1 Axes>"
      ]
     },
     "metadata": {
      "needs_background": "light"
     },
     "output_type": "display_data"
    }
   ],
   "source": [
    "#Suppose we have a collection of 20 animals, of which 7 are dogs. \n",
    "#Then if we want to know the probability of finding a given number of dogs \n",
    "#if we choose at random 12 of the 20 animals, \n",
    "#we can initialize a frozen distribution and plot the probability mass function:\n",
    "\n",
    "from scipy.stats import hypergeom\n",
    "import matplotlib.pyplot as plt\n",
    "\n",
    "[M, n, N] = [20, 7, 12]\n",
    "rv = hypergeom(M, n, N)\n",
    "x = np.arange(0, n+1)\n",
    "pmf_dogs = rv.pmf(x)\n",
    "fig = plt.figure()\n",
    "ax = fig.add_subplot(111)\n",
    "ax.plot(x, pmf_dogs, 'bo')\n",
    "ax.vlines(x, 0, pmf_dogs, lw=2)\n",
    "ax.set_xlabel('# of dogs in our group of chosen animals')\n",
    "ax.set_ylabel('hypergeom PMF')\n",
    "plt.show()"
   ]
  },
  {
   "cell_type": "markdown",
   "metadata": {},
   "source": [
    "___\n",
    "ex)\n",
    "A package of 8 AA batteries contains 2 batteries *defective, (N = 8, K = 6, N-K = 2)\n",
    "n = 4, k = 4"
   ]
  },
  {
   "cell_type": "code",
   "execution_count": 61,
   "metadata": {},
   "outputs": [
    {
     "data": {
      "text/plain": [
       "0.21428571428571402"
      ]
     },
     "execution_count": 61,
     "metadata": {},
     "output_type": "execute_result"
    }
   ],
   "source": [
    "[M,n,N] = [8,6,4]\n",
    "rv = hypergeom(M,n,N)\n",
    "rv.pmf(4)"
   ]
  },
  {
   "cell_type": "code",
   "execution_count": 62,
   "metadata": {},
   "outputs": [
    {
     "data": {
      "text/plain": [
       "3.0"
      ]
     },
     "execution_count": 62,
     "metadata": {},
     "output_type": "execute_result"
    }
   ],
   "source": [
    "rv.mean()"
   ]
  },
  {
   "cell_type": "code",
   "execution_count": 63,
   "metadata": {},
   "outputs": [
    {
     "data": {
      "text/plain": [
       "0.42857142857142855"
      ]
     },
     "execution_count": 63,
     "metadata": {},
     "output_type": "execute_result"
    }
   ],
   "source": [
    "rv.var()"
   ]
  },
  {
   "cell_type": "markdown",
   "metadata": {},
   "source": [
    "## Continuouis Distribution\n",
    " - Uniform Distribution\n",
    " - Exponential Distribution\n",
    " - Gamma Distribution\n",
    " - Beta Distribution\n",
    " - Normal Distribution\n",
    " - T-Distribution\n",
    " - Chi-Square Distribution\n",
    " - F Distribution\n",
    " - Lognormal Distribution\n",
    " - Weibull Distribution"
   ]
  },
  {
   "cell_type": "markdown",
   "metadata": {},
   "source": [
    "### 1. uniform distribution "
   ]
  },
  {
   "cell_type": "markdown",
   "metadata": {},
   "source": [
    "___\n",
    "The probability density function of the uniform distribution is\n",
    "\n",
    "$p(x) = \\frac{1}{b - a}$\n",
    "\n",
    "anywhere within the interval [a, b), and zero elsewhere.\n",
    "\n",
    "When high == low, values of low will be returned. If high < low, the results are officially undefined and may eventually raise an error, i.e. do not rely on this function to behave when passed arguments satisfying that inequality condition.\n",
    "___\n",
    "\n",
    "$E(X) = \\frac{a+b}{2}$  \n",
    "$Var(X) = \\frac{(b-a)^2}{12}$"
   ]
  },
  {
   "cell_type": "code",
   "execution_count": 66,
   "metadata": {},
   "outputs": [
    {
     "name": "stdout",
     "output_type": "stream",
     "text": [
      "True\n",
      "True\n"
     ]
    },
    {
     "data": {
      "image/png": "[encoded data removed]",
      "text/plain": [
       "<Figure size 432x288 with 1 Axes>"
      ]
     },
     "metadata": {
      "needs_background": "light"
     },
     "output_type": "display_data"
    }
   ],
   "source": [
    "#Draw samples from the distribution:\n",
    "\n",
    "s = np.random.uniform(-1,0,1000)\n",
    "\n",
    "#All values are within the given interval:\n",
    "print(np.all(s >= -1))\n",
    "print(np.all(s < 0))\n",
    "\n",
    "#Display the histogram of the samples, along with the probability density function:\n",
    "\n",
    "import matplotlib.pyplot as plt\n",
    "count, bins, ignored = plt.hist(s, 15, density=True)\n",
    "plt.plot(bins, np.ones_like(bins), linewidth=2, color='r')\n",
    "plt.show()"
   ]
  },
  {
   "cell_type": "markdown",
   "metadata": {},
   "source": [
    "### 2. Exponentail Distribution"
   ]
  },
  {
   "cell_type": "markdown",
   "metadata": {},
   "source": [
    "___\n",
    "he exponential distribution is the probability distribution of the time between events in a Poisson point process,   \n",
    "i.e., a process in which events occur continuously and independently at a constant average rate.   \n",
    "It is a particular case of the gamma distribution. It is the continuous analogue of the geometric distribution, and it has the key property of being memoryless.  \n",
    "In addition to being used for the analysis of Poisson point processes it is found in various other contexts.  \n",
    "\n",
    "The exponential distribution is not the same as the class of exponential families of distributions,  \n",
    "which is a large class of probability distributions that includes the exponential distribution as one of its members,   \n",
    "but also includes the normal distribution, binomial distribution, gamma distribution, Poisson, and many others.  \n",
    "___"
   ]
  },
  {
   "cell_type": "markdown",
   "metadata": {},
   "source": [
    "Probability density function\n",
    "The probability density function (pdf) of an exponential distribution is\n",
    "\n",
    "${\\displaystyle f(x;\\lambda )={\\begin{cases}\\lambda e^{-\\lambda x}&x\\geq 0,\\\\0&x<0.\\end{cases}}} f(x;\\lambda) = \\begin{cases}\n",
    "\\lambda e^{-\\lambda x} & x \\ge 0, \\\\\n",
    "0 & x < 0.\n",
    "\\end{cases}$  \n",
    "\n",
    "Here λ > 0 is the parameter of the distribution, often called the rate parameter.   \n",
    "\n",
    "The distribution is supported on the interval [0, ∞). If a random variable X has this distribution, we write X ~ Exp(λ).\n",
    "\n",
    "The exponential distribution exhibits infinite divisibility.  \n",
    "\n",
    "Cumulative distribution function  \n",
    "The cumulative distribution function is given by  \n",
    "\n",
    "${\\displaystyle F(x;\\lambda )={\\begin{cases}1-e^{-\\lambda x}&x\\geq 0,\\\\0&x<0.\\end{cases}}}F(x;\\lambda) = \\begin{cases} 1-e^{-\\lambda x} & x \\ge 0, \\\\\n",
    "0 & x < 0. \\end{cases}$\n",
    "\n",
    "Alternative parametrization  \n",
    "\n",
    "The exponential distribution is sometimes parametrized in terms of the scale parameter β = 1/λ:  \n",
    "\n",
    "${\\displaystyle f(x;\\beta )={\\begin{cases}{\\frac {1}{\\beta }}e^{-x/\\beta }&x\\geq 0,\\\\0&x<0.\\end{cases}}}{\\displaystyle f(x;\\beta )={\\begin{cases}{\\frac {1}{\\beta }}e^{-x/\\beta }&x\\geq 0,\\\\0&x<0.\\end{cases}}}$"
   ]
  },
  {
   "cell_type": "markdown",
   "metadata": {},
   "source": [
    "___\n",
    "The mean or expected value of an exponentially distributed random variable X with rate parameter λ is given by\n",
    "\n",
    "${\\displaystyle \\operatorname {E} [X]={\\frac {1}{\\lambda }}.}{\\displaystyle \\operatorname {E} [X]={\\frac {1}{\\lambda }}.}$  \n",
    "\n",
    "In light of the examples given above, this makes sense: \n",
    "\n",
    "if you receive phone calls at an average rate of 2 per hour, then you can expect to wait half an hour for every call.\n",
    "\n",
    "The variance of X is given by  \n",
    "\n",
    "${\\displaystyle \\operatorname {Var} [X]={\\frac {1}{\\lambda ^{2}}},}{\\displaystyle \\operatorname {Var} [X]={\\frac {1}{\\lambda ^{2}}},}$  \n",
    "\n",
    "so the standard deviation is equal to the mean.\n",
    "___"
   ]
  },
  {
   "cell_type": "markdown",
   "metadata": {},
   "source": [
    "scipy.stats.expon = <scipy.stats._continuous_distns.expon_gen object>[source]\n",
    "\n",
    "As an instance of the rv_continuous class, expon object inherits from it a collection of generic methods (see below for the full list),  \n",
    "\n",
    "and completes them with details specific for this particular distribution.\n",
    "\n",
    "Notes\n",
    "\n",
    "The probability density function for expon is:\n",
    "\n",
    "f(x) = exp(-x) , x > 0 \n",
    "\n",
    "The probability density above is defined in the “standardized” form.   \n",
    "To shift and/or scale the distribution use the loc and scale parameters.  \n",
    "Specifically, expon.pdf(x, loc, scale) is identically equivalent to  \n",
    "\n",
    "expon.pdf(y) / scale with y = (x - loc) / scale.\n",
    "\n",
    "A common parameterization for expon is in terms of the rate parameter lambda,  \n",
    "such that pdf = lambda * exp(-lambda * x).\n",
    "This parameterization corresponds to using scale = 1 / lambda.\n",
    "\n",
    "___"
   ]
  },
  {
   "cell_type": "code",
   "execution_count": 68,
   "metadata": {},
   "outputs": [
    {
     "data": {
      "image/png": "[encoded data removed]",
      "text/plain": [
       "<Figure size 432x288 with 1 Axes>"
      ]
     },
     "metadata": {
      "needs_background": "light"
     },
     "output_type": "display_data"
    }
   ],
   "source": [
    "from scipy.stats import expon\n",
    "import matplotlib.pyplot as plt\n",
    "fig, ax = plt.subplots(1, 1)\n",
    "\n",
    "#Calculate a few first moments:\n",
    "\n",
    "mean, var, skew, kurt = expon.stats(moments='mvsk')\n",
    "\n",
    "#Display the probability density function (pdf):\n",
    "\n",
    "x = np.linspace(expon.ppf(0.01),expon.ppf(0.99), 100)\n",
    "ax.plot(x, expon.pdf(x), 'r-', lw=5, alpha=0.6, label='expon pdf')\n",
    "\n",
    "# Alternatively, the distribution object can be called (as a function) to fix the shape, location and scale parameters. \n",
    "# This returns a “frozen” RV object holding the given parameters fixed.\n",
    "\n",
    "# Freeze the distribution and display the frozen pdf:\n",
    "\n",
    "rv = expon()\n",
    "ax.plot(x, rv.pdf(x), 'k-', lw=2, label='frozen pdf')\n",
    "\n",
    "# Check accuracy of cdf and ppf:\n",
    "\n",
    "vals = expon.ppf([0.001, 0.5, 0.999])\n",
    "np.allclose([0.001, 0.5, 0.999], expon.cdf(vals))\n",
    "\n",
    "# Generate random numbers:\n",
    "\n",
    "r = expon.rvs(size=1000)\n",
    "\n",
    "# And compare the histogram:\n",
    "\n",
    "ax.hist(r, density=True, histtype='stepfilled', alpha=0.2)\n",
    "ax.legend(loc='best', frameon=False)\n",
    "plt.show()\n"
   ]
  },
  {
   "cell_type": "markdown",
   "metadata": {},
   "source": [
    "### 3. Gamma Distribution"
   ]
  },
  {
   "cell_type": "markdown",
   "metadata": {},
   "source": [
    "the gamma distribution is a two-parameter family of continuous probability distributions.   \n",
    "The exponential distribution, Erlang distribution, and chi-squared distribution are special cases of the gamma distribution. \n",
    "\n",
    "There are three different parametrizations in common use:\n",
    "\n",
    "With a shape parameter k and a scale parameter θ.  \n",
    "With a shape parameter α = k and an inverse scale parameter β = 1/θ, called a rate parameter.  \n",
    "With a shape parameter k and a mean parameter μ = kθ = α/β.  \n",
    "In each of these three forms, both parameters are positive real numbers.  \n",
    "\n",
    "The gamma distribution is the maximum entropy probability distribution   \n",
    "(both with respect to a uniform base measure and with respect to a 1/x base measure)  \n",
    "for a random variable X for which E[X] = kθ = α/β is fixed and greater than zero, and E[ln(X)] = ψ(k) + ln(θ) = ψ(α) − ln(β) is fixed (ψ is the digamma function).[1]\n",
    "\n",
    "___"
   ]
  },
  {
   "cell_type": "markdown",
   "metadata": {},
   "source": [
    "scipy.stats.gamma = <scipy.stats._continuous_distns.gamma_gen object>[source]\n",
    "A gamma continuous random variable.\n",
    "\n",
    "As an instance of the rv_continuous class, gamma object inherits from it a collection of generic methods (see below for the full list), and completes them with details specific for this particular distribution.\n",
    "\n",
    "gamma takes a as a shape parameter for .\n",
    "\n",
    "When  is an integer, gamma reduces to the Erlang distribution, and when  to the exponential distribution.\n",
    "\n",
    "The probability density above is defined in the “standardized” form. To shift and/or scale the distribution use the loc and scale parameters. \n",
    "\n",
    "Specifically, gamma.pdf(x, a, loc, scale) is identically equivalent to gamma.pdf(y, a) / scale with y = (x - loc) / scale.\n",
    "___"
   ]
  },
  {
   "cell_type": "code",
   "execution_count": 94,
   "metadata": {},
   "outputs": [
    {
     "name": "stdout",
     "output_type": "stream",
     "text": [
      "True\n"
     ]
    },
    {
     "data": {
      "image/png": "[encoded data removed]",
      "text/plain": [
       "<Figure size 432x288 with 1 Axes>"
      ]
     },
     "metadata": {
      "needs_background": "light"
     },
     "output_type": "display_data"
    }
   ],
   "source": [
    "from scipy.stats import gamma\n",
    "import matplotlib.pyplot as plt\n",
    "\n",
    "fig, ax = plt.subplots(1, 1)\n",
    "\n",
    "# Calculate a few first moments:\n",
    "\n",
    "a = 1.99\n",
    "mean, var, skew, kurt = gamma.stats(a, moments='mvsk')\n",
    "\n",
    "#Display the probability density function (pdf):\n",
    "\n",
    "x = np.linspace(gamma.ppf(0.01, a), gamma.ppf(0.99, a), 100)\n",
    "ax.plot(x, gamma.pdf(x, a), 'r-', lw=5, alpha=0.6, label='gamma pdf')\n",
    "\n",
    "# Alternatively, the distribution object can be called (as a function) to fix the shape, location and scale parameters. \n",
    "# This returns a “frozen” RV object holding the given parameters fixed.\n",
    "\n",
    "# Freeze the distribution and display the frozen pdf:\n",
    "\n",
    "rv = gamma(a)\n",
    "ax.plot(x, rv.pdf(x), 'k-', lw=2, label='frozen pdf')\n",
    "\n",
    "# Check accuracy of cdf and ppf:\n",
    "\n",
    "vals = gamma.ppf([0.001, 0.5, 0.999], a)\n",
    "\n",
    "print(np.allclose([0.001, 0.5, 0.999], gamma.cdf(vals, a)))\n",
    "\n",
    "# Generate random numbers:\n",
    "\n",
    "r = gamma.rvs(a, size=1000)\n",
    "\n",
    "# And compare the histogram:\n",
    "\n",
    "ax.hist(r, density=True, histtype='stepfilled', alpha=0.2)\n",
    "ax.legend(loc='best', frameon=False)\n",
    "plt.show()"
   ]
  },
  {
   "cell_type": "markdown",
   "metadata": {},
   "source": [
    "### 4. Beta Distribution\n",
    "\n",
    "he beta distribution is a family of continuous probability distributions defined on the interval [0, 1] parametrized by two positive shape parameters, denoted by α and β,   \n",
    "that appear as exponents of the random variable and control the shape of the distribution.   \n",
    "The beta distribution has been applied to model the behavior of random variables limited to intervals of finite length in a wide variety of disciplines.  \n",
    "\n",
    "In Bayesian inference, the beta distribution is the conjugate prior probability distribution for the Bernoulli, binomial, negative binomial and geometric distributions.   \n",
    "For example, the beta distribution can be used in Bayesian analysis to describe initial knowledge concerning probability of success   \n",
    "such as the probability that a space vehicle will successfully complete a specified mission.  \n",
    "The beta distribution is a suitable model for the random behavior of percentages and proportions.  \n",
    "The formulation of the beta distribution discussed here is also known as the beta distribution of the first kind, whereas beta distribution of the second kind is an alternative name for the beta prime distribution.\n",
    "\n",
    "___\n",
    "\n",
    "The probability density function (pdf) of the beta distribution, for 0 ≤ x ≤ 1, and shape parameters α, β > 0, is a power function of the variable x and of its reflection (1 − x) as follows:\n",
    "\n",
    "$\\begin{align}\n",
    "f(x;\\alpha,\\beta) & = \\mathrm{constant}\\cdot x^{\\alpha-1}(1-x)^{\\beta-1} \\\\[3pt]\n",
    "& = \\frac{x^{\\alpha-1}(1-x)^{\\beta-1}}{\\displaystyle \\int_0^1 u^{\\alpha-1} (1-u)^{\\beta-1}\\, du} \\\\[6pt]\n",
    "& = \\frac{\\Gamma(\\alpha+\\beta)}{\\Gamma(\\alpha)\\Gamma(\\beta)}\\, x^{\\alpha-1}(1-x)^{\\beta-1} \\\\[6pt]\n",
    "& = \\frac{1}{\\beta B (\\alpha,\\beta)} x^{\\alpha-1}(1-x)^{\\beta-1}\n",
    "\\end{align}$\n",
    "\n",
    "___"
   ]
  },
  {
   "cell_type": "markdown",
   "metadata": {},
   "source": [
    "scipy.stats.beta = <scipy.stats._continuous_distns.beta_gen object>[source]\n",
    "\n",
    "A beta continuous random variable.\n",
    "\n",
    "As an instance of the rv_continuous class, beta object inherits from it a collection of generic methods (see below for the full list), and completes them with details specific for this particular distribution.\n",
    "\n",
    "beta takes  and  as shape parameters.\n",
    "The probability density above is defined in the “standardized” form.   \n",
    "To shift and/or scale the distribution use the loc and scale parameters.  \n",
    "Specifically, beta.pdf(x, a, b, loc, scale) is identically equivalent to beta.pdf(y, a, b) / scale with y = (x - loc) / scale.\n",
    "___"
   ]
  },
  {
   "cell_type": "code",
   "execution_count": 93,
   "metadata": {},
   "outputs": [
    {
     "name": "stdout",
     "output_type": "stream",
     "text": [
      "False\n"
     ]
    },
    {
     "data": {
      "image/png": "[encoded data removed]",
      "text/plain": [
       "<Figure size 432x288 with 1 Axes>"
      ]
     },
     "metadata": {
      "needs_background": "light"
     },
     "output_type": "display_data"
    }
   ],
   "source": [
    "from scipy.stats import beta\n",
    "import matplotlib.pyplot as plt\n",
    "fig, ax = plt.subplots(1, 1)\n",
    "\n",
    "#Calculate a few first moments:\n",
    "\n",
    "a, b = 2.31, 0.627\n",
    "mean, var, skew, kurt = beta.stats(a, b, moments='mvsk')\n",
    "\n",
    "#Display the probability density function (pdf):\n",
    "\n",
    "x = np.linspace(beta.ppf(0.01, a, b), beta.ppf(0.99, a, b), 100)\n",
    "ax.plot(x, beta.pdf(x, a, b),'r-', lw=5, alpha=0.6, label='beta pdf')\n",
    "\n",
    "#Alternatively, the distribution object can be called (as a function) to fix the shape, location and scale parameters.\n",
    "#This returns a “frozen” RV object holding the given parameters fixed.\n",
    "\n",
    "# Freeze the distribution and display the frozen pdf:\n",
    "\n",
    "rv = beta(a, b)\n",
    "ax.plot(x, rv.pdf(x), 'k-', lw=2, label='frozen pdf')\n",
    "\n",
    "#Check accuracy of cdf and ppf:\n",
    "\n",
    "vals = beta.pdf([0.001, 0.5, 0.999], a, b)\n",
    "\n",
    "print(np.allclose([0.001, 0.5, 0.999], beta.cdf(vals, a, b)))\n",
    "\n",
    "#Generate random numbers:\n",
    "\n",
    "r = beta.rvs(a, b, size=1000)\n",
    "\n",
    "# And compare the histogram:\n",
    "\n",
    "ax.hist(r, density=True, histtype='stepfilled', alpha=0.2)\n",
    "ax.legend(loc='best', frameon=False)\n",
    "plt.show()"
   ]
  },
  {
   "cell_type": "markdown",
   "metadata": {},
   "source": [
    "### 5. Normal Distribution"
   ]
  },
  {
   "cell_type": "markdown",
   "metadata": {},
   "source": [
    "the normal (or Gaussian or Gauss or Laplace–Gauss) distribution is a very common continuous probability distribution.   \n",
    "Normal distributions are important in statistics and are often used in the natural and social sciences to represent real-valued random variables whose distributions are not known.   \n",
    "A random variable with a Gaussian distribution is said to be normally distributed and is called a normal deviate.\n",
    "\n",
    "The normal distribution is sometimes informally called the bell curve. However, many other distributions are bell-shaped (such as the Cauchy, Student's t-, and logistic distributions).\n",
    "\n",
    "The probability density of the normal distribution is\n",
    "\n",
    "${\\displaystyle f(x\\mid \\mu ,\\sigma ^{2})={\\frac {1}{\\sqrt {2\\pi \\sigma ^{2}}}}e^{-{\\frac {(x-\\mu )^{2}}{2\\sigma ^{2}}}}}$  \n",
    "\n",
    "where\n",
    "\n",
    "${\\displaystyle \\mu }$ is the mean or expectation of the distribution (and also its median and mode)  \n",
    "${\\displaystyle \\sigma } $ is the standard deviation  \n",
    "${\\displaystyle \\sigma ^{2}}$ is the variance\n",
    "\n",
    "___\n",
    "Linear Combination of Normal Random Variable\n",
    "\n",
    "Averaging Independent Normal Random Variable\n",
    "\n",
    "___\n",
    "\n",
    "scipy.stats.norm = <scipy.stats._continuous_distns.norm_gen object at 0x4502f32c>[source]  \n",
    "\n",
    "A normal continuous random variable.\n",
    "\n",
    "The location (loc) keyword specifies the mean. The scale (scale) keyword specifies the standard deviation.\n",
    "\n",
    "As an instance of the rv_continuous class, norm object inherits from it a collection of generic methods (see below for the full list), and completes them with details specific for this particular distribution.\n",
    "\n",
    "Notes\n",
    "\n",
    "The probability density function for norm is:\n",
    "\n",
    "norm.pdf(x) = exp(-x**2/2)/sqrt(2*pi)\n",
    "\n",
    "The probability density above is defined in the “standardized” form. \n",
    "\n",
    "To shift and/or scale the distribution use the loc and scale parameters. \n",
    "\n",
    "Specifically, norm.pdf(x, loc, scale) is identically equivalent to norm.pdf(y) / scale with y = (x - loc) / scale.\n",
    "\n",
    "___\n",
    "\n",
    " - rvs(loc=0, scale=1, size=1, random_state=None)\tRandom variates.\n",
    " - pdf(x, loc=0, scale=1)\tProbability density function.\n",
    " - logpdf(x, loc=0, scale=1)\tLog of the probability density function.\n",
    " - cdf(x, loc=0, scale=1)\tCumulative density function.\n",
    " - logcdf(x, loc=0, scale=1)\tLog of the cumulative density function.\n",
    " - sf(x, loc=0, scale=1)\tSurvival function (1 - cdf — sometimes more accurate).\n",
    " - logsf(x, loc=0, scale=1)\tLog of the survival function.\n",
    " - ppf(q, loc=0, scale=1)\tPercent point function (inverse of cdf — percentiles).\n",
    " - isf(q, loc=0, scale=1)\tInverse survival function (inverse of sf).\n",
    " - moment(n, loc=0, scale=1)\tNon-central moment of order n\n",
    " - stats(loc=0, scale=1, moments='mv')\tMean(‘m’), variance(‘v’), skew(‘s’), and/or kurtosis(‘k’).\n",
    " - entropy(loc=0, scale=1)\t(Differential) entropy of the RV.\n",
    " - fit(data, loc=0, scale=1)\tParameter estimates for generic data.\n",
    " - expect(func, loc=0, scale=1, lb=None, ub=None, conditional=False, **kwds)\tExpected value of a function (of one argument) with respect to the distribution.\n",
    " - median(loc=0, scale=1)\tMedian of the distribution.\n",
    " - mean(loc=0, scale=1)\tMean of the distribution.\n",
    " - var(loc=0, scale=1)\tVariance of the distribution.\n",
    " - std(loc=0, scale=1)\tStandard deviation of the distribution.\n",
    " - interval(alpha, loc=0, scale=1)\tEndpoints of the range that contains alpha percent of the distribution"
   ]
  },
  {
   "cell_type": "code",
   "execution_count": 75,
   "metadata": {},
   "outputs": [
    {
     "name": "stdout",
     "output_type": "stream",
     "text": [
      "True\n"
     ]
    },
    {
     "data": {
      "image/png": "[encoded data removed]",
      "text/plain": [
       "<Figure size 432x288 with 1 Axes>"
      ]
     },
     "metadata": {
      "needs_background": "light"
     },
     "output_type": "display_data"
    }
   ],
   "source": [
    "from scipy.stats import norm\n",
    "import matplotlib.pyplot as plt\n",
    "fig, ax = plt.subplots(1, 1)\n",
    "\n",
    "#Calculate a few first moments:\n",
    "\n",
    "mean, var, skew, kurt = norm.stats(moments='mvsk')\n",
    "\n",
    "#Display the probability density function (pdf):\n",
    "\n",
    "x = np.linspace(norm.ppf(0.01), norm.ppf(0.99), 100)\n",
    "ax.plot(x, norm.pdf(x),  'r-', lw=5, alpha=0.6, label='norm pdf')\n",
    "\n",
    "# Alternatively, the distribution object can be called (as a function) to fix the shape, location and scale parameters.\n",
    "# This returns a “frozen” RV object holding the given parameters fixed.\n",
    "\n",
    "# Freeze the distribution and display the frozen pdf:\n",
    "\n",
    "rv = norm()\n",
    "ax.plot(x, rv.pdf(x), 'k-', lw=2, label='frozen pdf')\n",
    "\n",
    "#Check accuracy of cdf and ppf:\n",
    "\n",
    "vals = norm.ppf([0.001, 0.5, 0.999])\n",
    "print(np.allclose([0.001, 0.5, 0.999], norm.cdf(vals)))\n",
    "\n",
    "#Generate random numbers:\n",
    "\n",
    "r = norm.rvs(size=1000)\n",
    "# And compare the histogram:\n",
    "\n",
    "ax.hist(r, density =True, histtype='stepfilled', alpha=0.2)\n",
    "ax.legend(loc='best', frameon=False)\n",
    "plt.show()"
   ]
  },
  {
   "cell_type": "code",
   "execution_count": 69,
   "metadata": {},
   "outputs": [
    {
     "name": "stdout",
     "output_type": "stream",
     "text": [
      "True\n",
      "True\n"
     ]
    },
    {
     "data": {
      "image/png": "[encoded data removed]",
      "text/plain": [
       "<Figure size 432x288 with 1 Axes>"
      ]
     },
     "metadata": {
      "needs_background": "light"
     },
     "output_type": "display_data"
    }
   ],
   "source": [
    "# Draw samples from the distribution:\n",
    "\n",
    "mu, sigma = 0, 0.1 # mean and standard deviation\n",
    "s = np.random.normal(mu, sigma, 1000)\n",
    "#Verify the mean and the variance:\n",
    "\n",
    "print(abs(mu - np.mean(s)) < 0.01)\n",
    "print(abs(sigma - np.std(s, ddof=1)) < 0.01)\n",
    "\n",
    "#Display the histogram of the samples, along with the probability density function:\n",
    "\n",
    "import matplotlib.pyplot as plt\n",
    "count, bins, ignored = plt.hist(s, 30, density=True)\n",
    "plt.plot(bins, 1/(sigma * np.sqrt(2 * np.pi)) * np.exp( - (bins - mu)**2 / (2 * sigma**2) ),  linewidth=2, color='r')\n",
    "plt.show()"
   ]
  },
  {
   "cell_type": "code",
   "execution_count": 70,
   "metadata": {},
   "outputs": [
    {
     "data": {
      "text/plain": [
       "[<matplotlib.lines.Line2D at 0x24fb90940b8>]"
      ]
     },
     "execution_count": 70,
     "metadata": {},
     "output_type": "execute_result"
    },
    {
     "data": {
      "image/png": "[encoded data removed]",
      "text/plain": [
       "<Figure size 432x288 with 1 Axes>"
      ]
     },
     "metadata": {
      "needs_background": "light"
     },
     "output_type": "display_data"
    }
   ],
   "source": [
    "from scipy.stats import multivariate_normal\n",
    "x = np.linspace(0, 5, 10, endpoint=False)\n",
    "y = multivariate_normal.pdf(x, mean=2.5, cov=0.5); y\n",
    "plt.plot(x, y)"
   ]
  },
  {
   "cell_type": "code",
   "execution_count": 71,
   "metadata": {},
   "outputs": [
    {
     "data": {
      "text/plain": [
       "<matplotlib.contour.QuadContourSet at 0x24fb90ee5c0>"
      ]
     },
     "execution_count": 71,
     "metadata": {},
     "output_type": "execute_result"
    },
    {
     "data": {
      "image/png": "[encoded data removed]",
      "text/plain": [
       "<Figure size 432x288 with 1 Axes>"
      ]
     },
     "metadata": {
      "needs_background": "light"
     },
     "output_type": "display_data"
    }
   ],
   "source": [
    "x, y = np.mgrid[-1:1:.01, -1:1:.01]\n",
    "pos = np.empty(x.shape + (2,))\n",
    "pos[:, :, 0] = x; pos[:, :, 1] = y\n",
    "rv = multivariate_normal([0.5, -0.2], [[2.0, 0.3], [0.3, 0.5]])\n",
    "plt.contourf(x, y, rv.pdf(pos))"
   ]
  },
  {
   "cell_type": "markdown",
   "metadata": {},
   "source": [
    "Calculation of CDF and PPF in inferential statistics  \n",
    "Calculations of the quantiles and cumulative distribution functions values are required in inferential statistics, when constructing confidence intervals or   \n",
    "for the implementation of hypothesis tests, especially for the calculation of the p-value.  \n",
    "Functions available in different tools allow us to obtain these values. We do not longer need to use statistical tables  \n",
    "\n",
    "CDF of the standard normal distribution (μ = 0 and σ = 1).  \n",
    "Probability of less than x = 1.65 is equal to 0.9505285\n"
   ]
  },
  {
   "cell_type": "code",
   "execution_count": 77,
   "metadata": {},
   "outputs": [
    {
     "data": {
      "text/plain": [
       "0.9505285319663519"
      ]
     },
     "execution_count": 77,
     "metadata": {},
     "output_type": "execute_result"
    }
   ],
   "source": [
    "import scipy.stats as stats\n",
    "\n",
    "stats.norm.cdf(1.65, loc = 0, scale = 1)"
   ]
  },
  {
   "cell_type": "code",
   "execution_count": 78,
   "metadata": {},
   "outputs": [
    {
     "data": {
      "text/plain": [
       "0.017864420562816542"
      ]
     },
     "execution_count": 78,
     "metadata": {},
     "output_type": "execute_result"
    }
   ],
   "source": [
    "# Calculation of the p-value for the standard normal distribution in a right tailed test.\n",
    "# The probability of more than z = 2.1 is equal to 0.01786442\n",
    "\n",
    "1 - stats.norm.cdf(2.1)\n",
    "stats.norm.sf(2.1)"
   ]
  },
  {
   "cell_type": "code",
   "execution_count": 79,
   "metadata": {},
   "outputs": [
    {
     "data": {
      "text/plain": [
       "0.035728841125633126"
      ]
     },
     "execution_count": 79,
     "metadata": {},
     "output_type": "execute_result"
    }
   ],
   "source": [
    "# Calculation of the p-value for the standard normal distribution in a twotailed test. \n",
    "#The probability of more than z = 2.1 in absolute value is equal to 0.03572884\n",
    "2 * (1 - stats.norm.cdf(2.1))"
   ]
  },
  {
   "cell_type": "code",
   "execution_count": 80,
   "metadata": {},
   "outputs": [
    {
     "data": {
      "text/plain": [
       "1.6448536269514722"
      ]
     },
     "execution_count": 80,
     "metadata": {},
     "output_type": "execute_result"
    }
   ],
   "source": [
    "# PPF (q) of the standard normal distribution for the probability (1 – α) = 0.95\n",
    "\n",
    "stats.norm.ppf(0.95, loc =0, scale = 1)"
   ]
  },
  {
   "cell_type": "markdown",
   "metadata": {},
   "source": [
    "___\n",
    "Normality Check  \n",
    "- plotting histogram\n",
    "- plot probability plot based on queantiles\n",
    "- Scipy 'normality test' (Skewness, Kurtisis, p-value)"
   ]
  },
  {
   "cell_type": "code",
   "execution_count": 104,
   "metadata": {},
   "outputs": [
    {
     "data": {
      "image/png": "[encoded data removed]",
      "text/plain": [
       "<Figure size 432x288 with 1 Axes>"
      ]
     },
     "metadata": {
      "needs_background": "light"
     },
     "output_type": "display_data"
    }
   ],
   "source": [
    "from scipy.stats import norm\n",
    "import matplotlib.pyplot as plt\n",
    "\n",
    "mu, sigma = 0, 0.1 # mean and standard deviation\n",
    "s = np.random.normal(mu, sigma, 1000)\n",
    "_ = stats.probplot(s, plot=plt)\n"
   ]
  },
  {
   "cell_type": "code",
   "execution_count": 105,
   "metadata": {},
   "outputs": [
    {
     "name": "stdout",
     "output_type": "stream",
     "text": [
      "Data are probably normally distributed\n",
      "0.4190678323505741\n"
     ]
    }
   ],
   "source": [
    "_, pVal = stats.normaltest(s)\n",
    "\n",
    "# Or you can check for normality with Kolmogorov-Smirnov test: but this is only advisable for large sample numbers!\n",
    "#_,pVal = stats.kstest((data-np.mean(data))/np.std(data,ddof=1), 'norm')\n",
    "\n",
    "if pVal > 0.05:\n",
    "    print('Data are probably normally distributed')\n",
    "    \n",
    "print(pVal)"
   ]
  },
  {
   "cell_type": "code",
   "execution_count": 115,
   "metadata": {},
   "outputs": [
    {
     "name": "stdout",
     "output_type": "stream",
     "text": [
      "With a threshold of 2.00, you get 7.0% of the data\n",
      "To get 97.5% of the data, you need a threshold of 8.92.\n"
     ]
    },
    {
     "data": {
      "image/png": "[encoded data removed]",
      "text/plain": [
       "<Figure size 432x288 with 1 Axes>"
      ]
     },
     "metadata": {
      "needs_background": "light"
     },
     "output_type": "display_data"
    }
   ],
   "source": [
    "# Generate normally distributed random data\n",
    "myMean = 5\n",
    "mySD = 2\n",
    "numData = 100\n",
    "data = stats.norm.rvs(myMean, mySD, size=numData)\n",
    "\n",
    "#step(bin_edges[1:],cdf)\n",
    "plt.plot(x, stats.norm.cdf(x, myMean, mySD),'r')\n",
    "\n",
    "# Find out the value corresponding to the x-th percentile: the\n",
    "# \"cumulative distribution function\"\n",
    "value = 2\n",
    "myMean = 5\n",
    "mySD = 2\n",
    "cdf = stats.norm.cdf(value, myMean, mySD)\n",
    "print(('With a threshold of {0:4.2f}, you get {1}% of the data'.format(value, round(cdf*100))))\n",
    "\n",
    "# For the percentile corresponding to a certain value: \n",
    "# the \"inverse cumulative distribution function\" \n",
    "value = 0.025\n",
    "icdf = stats.norm.isf(value, myMean, mySD)\n",
    "print('To get {0}% of the data, you need a threshold of {1:4.2f}.'.format((1-value)*100, icdf))"
   ]
  },
  {
   "cell_type": "markdown",
   "metadata": {},
   "source": [
    "### 6. T Distribution"
   ]
  },
  {
   "cell_type": "code",
   "execution_count": 81,
   "metadata": {},
   "outputs": [
    {
     "data": {
      "text/plain": [
       "0.9177463367772799"
      ]
     },
     "execution_count": 81,
     "metadata": {},
     "output_type": "execute_result"
    }
   ],
   "source": [
    "# CDF of Student’s t-distribution with k (k > 0) degrees of freedom.\n",
    "# Probability of less than t = 1.5 with k = 10.\n",
    "\n",
    "stats.t.cdf(1.5,df=10)"
   ]
  },
  {
   "cell_type": "code",
   "execution_count": 82,
   "metadata": {},
   "outputs": [
    {
     "data": {
      "text/plain": [
       "1.8124611228107335"
      ]
     },
     "execution_count": 82,
     "metadata": {},
     "output_type": "execute_result"
    }
   ],
   "source": [
    "# PPF (q) of the Student’s t-distribution with k = 10 degrees\n",
    "# of freedom for the probability (1 – α) = 0.95\n",
    "stats.t.ppf(0.95,df=10)"
   ]
  },
  {
   "cell_type": "markdown",
   "metadata": {},
   "source": [
    "### 7. Chi-squared Distribution"
   ]
  },
  {
   "cell_type": "code",
   "execution_count": 83,
   "metadata": {},
   "outputs": [
    {
     "data": {
      "text/plain": [
       "0.9652122194937581"
      ]
     },
     "execution_count": 83,
     "metadata": {},
     "output_type": "execute_result"
    }
   ],
   "source": [
    "# CDF of the CHI-SQUARED distribution with k (k > 0) degrees of freedom.\n",
    "# Probability of less than t = 12.0 with k = 5.\n",
    "\n",
    "stats.chi2.cdf(12.0,df=5)\n"
   ]
  },
  {
   "cell_type": "code",
   "execution_count": 86,
   "metadata": {},
   "outputs": [
    {
     "data": {
      "text/plain": [
       "14.067140449340169"
      ]
     },
     "execution_count": 86,
     "metadata": {},
     "output_type": "execute_result"
    }
   ],
   "source": [
    "# PPF (q) of the chi-squared distribution with k = 7 degrees of\n",
    "# freedom for the probability (1 – α) = 0.95\n",
    "\n",
    "stats.chi2.ppf(0.95, df=7)\n"
   ]
  },
  {
   "cell_type": "code",
   "execution_count": null,
   "metadata": {},
   "outputs": [],
   "source": []
  }
 ],
 "metadata": {
  "kernelspec": {
   "display_name": "Python 3",
   "language": "python",
   "name": "python3"
  },
  "language_info": {
   "codemirror_mode": {
    "name": "ipython",
    "version": 3
   },
   "file_extension": ".py",
   "mimetype": "text/x-python",
   "name": "python",
   "nbconvert_exporter": "python",
   "pygments_lexer": "ipython3",
   "version": "3.7.1"
  }
 },
 "nbformat": 4,
 "nbformat_minor": 2
}
